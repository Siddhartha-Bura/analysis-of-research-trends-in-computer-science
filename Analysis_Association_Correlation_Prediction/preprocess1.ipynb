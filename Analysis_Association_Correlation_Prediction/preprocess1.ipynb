{
 "cells": [
  {
   "cell_type": "code",
   "execution_count": 1,
   "id": "cd738b58",
   "metadata": {},
   "outputs": [],
   "source": [
    "data=open(\"dblpv13.json\",encoding=\"utf-8\")\n",
    "file=open(\"dblp.txt\",'w',encoding=\"utf-8\")\n",
    "\n",
    "while True:\n",
    "    i=data.readline()\n",
    "    if not i:break\n",
    "    title=\"\"\n",
    "    year=\"\"\n",
    "    authors=\"\"\n",
    "    while True:\n",
    "        if not i:break\n",
    "        if '\"year\" :' in i:\n",
    "            if \")\" and \"(\" in i:\n",
    "                year=i[i.index(\"(\")+1:i.index(\")\")]\n",
    "            break\n",
    "        if '\"title\" :' in i:\n",
    "            title=i[i.index(\":\")+2:].replace(\"\\n\",\"\")\n",
    "        if '\"authors\" :' in i:\n",
    "            while True:\n",
    "                i=data.readline()\n",
    "                if \"],\" in i:break\n",
    "                if '\"name\" :' in i:\n",
    "                    authors+=i[i.index(\":\")+2:].replace(\"\\n\",\"\").replace('\"',\"\").replace(\",\",\"\")+\",\"\n",
    "            \n",
    "        i=data.readline()\n",
    "    if title and year and authors:\n",
    "        file.write(\"#*\"+title+\"\\n\"+\"#@\"+authors+\"\\n\"+\"#t\"+year+\"\\n\")\n",
    "\n",
    "    \n"
   ]
  },
  {
   "cell_type": "code",
   "execution_count": null,
   "id": "81d98f44",
   "metadata": {},
   "outputs": [],
   "source": []
  }
 ],
 "metadata": {
  "kernelspec": {
   "display_name": "Python 3 (ipykernel)",
   "language": "python",
   "name": "python3"
  },
  "language_info": {
   "codemirror_mode": {
    "name": "ipython",
    "version": 3
   },
   "file_extension": ".py",
   "mimetype": "text/x-python",
   "name": "python",
   "nbconvert_exporter": "python",
   "pygments_lexer": "ipython3",
   "version": "3.9.2rc1"
  }
 },
 "nbformat": 4,
 "nbformat_minor": 5
}
