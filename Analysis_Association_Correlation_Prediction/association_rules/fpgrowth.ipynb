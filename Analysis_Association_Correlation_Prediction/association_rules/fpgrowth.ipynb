{
 "cells": [
  {
   "cell_type": "code",
   "execution_count": 1,
   "id": "3d73d86d",
   "metadata": {},
   "outputs": [],
   "source": [
    "\n",
    "Data=[[j for j in i.replace(\"\\n\",\"\").split(\" \") if j!='' and not j.strip().isnumeric()] for i in open(\"../data.txt\",encoding=\"utf-8\")]\n",
    "freq={}\n",
    "\n",
    "for i in Data:\n",
    "    \n",
    "    for j in i:\n",
    "        if j in freq:\n",
    "            freq[j]+=1\n",
    "        else:\n",
    "            freq[j]=1\n"
   ]
  },
  {
   "cell_type": "code",
   "execution_count": 2,
   "id": "f854a99c",
   "metadata": {},
   "outputs": [],
   "source": [
    "l=len(Data)\n",
    "min_support = 100/l\n",
    "words=set(i for i in freq.keys() if freq[i]/l>=min_support)\n",
    "if 'based' in words:\n",
    "    words.remove('based')\n",
    "data=[sorted(set(j for j in i if j in words),reverse=True,key=lambda k:freq[k]) for i in Data]\n",
    "data=[i for i in data if len(i)!=0]"
   ]
  },
  {
   "cell_type": "code",
   "execution_count": 3,
   "id": "02f556cd",
   "metadata": {},
   "outputs": [],
   "source": [
    "from collections import defaultdict as dt\n",
    "class node:\n",
    "    def __init__(self,v=None):\n",
    "        self.val=v\n",
    "        self.child=dt(node)\n",
    "        self.count=0\n",
    "        self.par=None"
   ]
  },
  {
   "cell_type": "code",
   "execution_count": 4,
   "id": "77489de2",
   "metadata": {},
   "outputs": [],
   "source": [
    "def tree(root,x,i):\n",
    "    if i>=len(x):\n",
    "        return\n",
    "    zz=root.child[x[i]]\n",
    "    zz.count+=1\n",
    "    zz.val=x[i]\n",
    "    zz.par=root\n",
    "    node_dict[x[i]].append(zz)\n",
    "    tree(zz,x,i+1)"
   ]
  },
  {
   "cell_type": "code",
   "execution_count": 5,
   "id": "de5a3ef9",
   "metadata": {},
   "outputs": [],
   "source": [
    "node_dict=dt(list)\n",
    "root=node()\n",
    "for i in data:\n",
    "    tree(root,i,0)"
   ]
  },
  {
   "cell_type": "code",
   "execution_count": 6,
   "id": "a0739b32",
   "metadata": {},
   "outputs": [],
   "source": [
    "\n",
    "def traverse(root,z):\n",
    "    res=dt(int)\n",
    "    wd=set()\n",
    "    for a in root.child:\n",
    "        z.append(a)\n",
    "        qq=root.child[a]\n",
    "        di=traverse(qq,z)\n",
    "        del z[-1]\n",
    "        if not z:continue\n",
    "        for b in di:\n",
    "            res[b]+=di[b]\n",
    "            wd.add(b)       \n",
    "    if not z:return\n",
    "    for i in wd:\n",
    "        if res[i]/l>=min_support:\n",
    "            patterns[i].append((tuple(z),res[i]))\n",
    "            res[i]=0\n",
    "    if root.val!=None:\n",
    "        res[root.val]+=root.count\n",
    "    return res   "
   ]
  },
  {
   "cell_type": "code",
   "execution_count": 7,
   "id": "761b44d3",
   "metadata": {},
   "outputs": [
    {
     "name": "stdout",
     "output_type": "stream",
     "text": [
      "3629\n"
     ]
    }
   ],
   "source": [
    "patterns=dt(list)\n",
    "traverse(root,[])"
   ]
  },
  {
   "cell_type": "code",
   "execution_count": 8,
   "id": "2f2412aa",
   "metadata": {},
   "outputs": [
    {
     "name": "stdout",
     "output_type": "stream",
     "text": [
      "3633\n"
     ]
    }
   ],
   "source": [
    "ind=dt(list)\n",
    "new_words=set()\n",
    "for i in patterns:\n",
    "    new_words.add(i)\n",
    "    for j,k in patterns[i]:\n",
    "        new_words=new_words.union(j)\n",
    "print(len(new_words))\n",
    "d=0\n",
    "\n",
    "for j in range(len(data)):\n",
    "    for i in data[j]:\n",
    "        if i in new_words:\n",
    "            ind[i].append(j)"
   ]
  },
  {
   "cell_type": "code",
   "execution_count": 10,
   "id": "d4f87e50",
   "metadata": {},
   "outputs": [],
   "source": [
    "def support(x):\n",
    "    word = min((len(ind[i]),i) for i in x)[1]\n",
    "    c=0\n",
    "    for j in node_dict[word]:\n",
    "        zz=j.count\n",
    "        qq=0\n",
    "        while j and qq!=len(x):\n",
    "            if j.val in x:qq+=1\n",
    "            j=j.par\n",
    "        if qq==len(x):\n",
    "            c+=zz\n",
    "    return c"
   ]
  },
  {
   "cell_type": "code",
   "execution_count": 11,
   "id": "fecb1bea",
   "metadata": {},
   "outputs": [],
   "source": [
    "res=set()\n",
    "def func(a,b,i,x,r):\n",
    "    if i>=len(x):\n",
    "        if a and b:\n",
    "            supp_a=support(a)\n",
    "            if supp_a==0:return\n",
    "            conf = support(a.union(b))/supp_a\n",
    "            if conf>=0.7:\n",
    "                s=\"(\"\n",
    "                for j in sorted(a):\n",
    "                    s+=j+\" ; \"\n",
    "                s+=\"), (\"\n",
    "                for j in sorted(b):\n",
    "                    s+=j+\" ; \"\n",
    "                s+=\"), \"+str(conf)+\"\\n\"\n",
    "                res.add(s)\n",
    "        return\n",
    "    a.add(x[i])\n",
    "    func(a,b,i+1,x,r)\n",
    "    a.remove(x[i])\n",
    "    b.add(x[i])\n",
    "    func(a,b,i+1,x,r)\n",
    "    b.remove(x[i])\n",
    "    func(a,b,i+1,x,r)"
   ]
  },
  {
   "cell_type": "code",
   "execution_count": 12,
   "id": "08d29ead",
   "metadata": {},
   "outputs": [
    {
     "name": "stdout",
     "output_type": "stream",
     "text": [
      "3629\r"
     ]
    }
   ],
   "source": [
    "d=0\n",
    "for b in patterns:\n",
    "    for a,c in patterns[b]:\n",
    "        \n",
    "        func(set(),{b},0,list(a),c)\n",
    "        func({b},set(),0,list(a),c)\n",
    "    d+=1\n",
    "    print(d,end='\\r') "
   ]
  },
  {
   "cell_type": "code",
   "execution_count": 13,
   "id": "1f19b86c",
   "metadata": {},
   "outputs": [],
   "source": [
    "file=open(\"association_rules.csv\",'w',encoding=\"utf-8\")\n",
    "file.write(\"antecedent,consequent,confidence\\n\")\n",
    "for i in res:\n",
    "    file.write(i)\n",
    "file.close()"
   ]
  },
  {
   "cell_type": "code",
   "execution_count": null,
   "id": "a6898304",
   "metadata": {},
   "outputs": [],
   "source": []
  }
 ],
 "metadata": {
  "kernelspec": {
   "display_name": "Python 3 (ipykernel)",
   "language": "python",
   "name": "python3"
  },
  "language_info": {
   "codemirror_mode": {
    "name": "ipython",
    "version": 3
   },
   "file_extension": ".py",
   "mimetype": "text/x-python",
   "name": "python",
   "nbconvert_exporter": "python",
   "pygments_lexer": "ipython3",
   "version": "3.9.2rc1"
  }
 },
 "nbformat": 4,
 "nbformat_minor": 5
}
